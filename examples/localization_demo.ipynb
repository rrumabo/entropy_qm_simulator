# Entropy vs. Lindblad: Localization in Double-Well

- Initial superposition: ψ₀ = (ψ_left + ψ_right) / √2
- Simulate evolution under both dynamics
- Plot:
    - Space-time density heatmap
    - Entropy vs. time
    - Survival amplitude
- Interactive sliders (γ, α, t_max)
